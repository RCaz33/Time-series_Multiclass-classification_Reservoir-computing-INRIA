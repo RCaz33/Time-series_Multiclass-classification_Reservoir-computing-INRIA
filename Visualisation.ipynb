{
 "cells": [
  {
   "cell_type": "code",
   "execution_count": 1,
   "metadata": {},
   "outputs": [
    {
     "name": "stdout",
     "output_type": "stream",
     "text": [
      "Intel MKL WARNING: Support of Intel(R) Streaming SIMD Extensions 4.2 (Intel(R) SSE4.2) enabled only processors has been deprecated. Intel oneAPI Math Kernel Library 2025.0 will require Intel(R) Advanced Vector Extensions (Intel(R) AVX) instructions.\n",
      "Intel MKL WARNING: Support of Intel(R) Streaming SIMD Extensions 4.2 (Intel(R) SSE4.2) enabled only processors has been deprecated. Intel oneAPI Math Kernel Library 2025.0 will require Intel(R) Advanced Vector Extensions (Intel(R) AVX) instructions.\n"
     ]
    }
   ],
   "source": [
    "import os\n",
    "import pandas as pd\n",
    "import numpy as np \n",
    "import seaborn as sns\n",
    "import plotly.express as px\n",
    "from sklearn.model_selection import train_test_split\n",
    "from sklearn.tree import DecisionTreeClassifier\n",
    "from sklearn.metrics import accuracy_score\n",
    "\n",
    "import matplotlib.pyplot as plt"
   ]
  },
  {
   "cell_type": "markdown",
   "metadata": {},
   "source": [
    "# visualisation des données"
   ]
  },
  {
   "cell_type": "code",
   "execution_count": 12,
   "metadata": {},
   "outputs": [
    {
     "data": {
      "text/html": [
       "<div>\n",
       "<style scoped>\n",
       "    .dataframe tbody tr th:only-of-type {\n",
       "        vertical-align: middle;\n",
       "    }\n",
       "\n",
       "    .dataframe tbody tr th {\n",
       "        vertical-align: top;\n",
       "    }\n",
       "\n",
       "    .dataframe thead th {\n",
       "        text-align: right;\n",
       "    }\n",
       "</style>\n",
       "<table border=\"1\" class=\"dataframe\">\n",
       "  <thead>\n",
       "    <tr style=\"text-align: right;\">\n",
       "      <th></th>\n",
       "      <th>t</th>\n",
       "      <th>raw_acceleration_x</th>\n",
       "      <th>raw_acceleration_y</th>\n",
       "      <th>raw_acceleration_z</th>\n",
       "      <th>rotation_speed_x</th>\n",
       "      <th>rotation_speed_y</th>\n",
       "      <th>rotation_speed_z</th>\n",
       "      <th>magnetic_field_x</th>\n",
       "      <th>magnetic_field_y</th>\n",
       "      <th>magnetic_field_z</th>\n",
       "    </tr>\n",
       "  </thead>\n",
       "  <tbody>\n",
       "    <tr>\n",
       "      <th>mean</th>\n",
       "      <td>10.316898</td>\n",
       "      <td>-0.182381</td>\n",
       "      <td>0.078413</td>\n",
       "      <td>-9.763333</td>\n",
       "      <td>-0.005397</td>\n",
       "      <td>-0.004921</td>\n",
       "      <td>0.014762</td>\n",
       "      <td>-20.493175</td>\n",
       "      <td>8.459841</td>\n",
       "      <td>21.904603</td>\n",
       "    </tr>\n",
       "    <tr>\n",
       "      <th>std</th>\n",
       "      <td>0.415462</td>\n",
       "      <td>1.662876</td>\n",
       "      <td>2.329448</td>\n",
       "      <td>0.279706</td>\n",
       "      <td>0.103765</td>\n",
       "      <td>0.033977</td>\n",
       "      <td>0.897509</td>\n",
       "      <td>1.818016</td>\n",
       "      <td>4.226093</td>\n",
       "      <td>2.197374</td>\n",
       "    </tr>\n",
       "    <tr>\n",
       "      <th>min</th>\n",
       "      <td>9.617316</td>\n",
       "      <td>-3.460000</td>\n",
       "      <td>-4.170000</td>\n",
       "      <td>-10.430000</td>\n",
       "      <td>-0.550000</td>\n",
       "      <td>-0.120000</td>\n",
       "      <td>-1.830000</td>\n",
       "      <td>-23.680000</td>\n",
       "      <td>2.000000</td>\n",
       "      <td>19.060000</td>\n",
       "    </tr>\n",
       "    <tr>\n",
       "      <th>25%</th>\n",
       "      <td>9.965829</td>\n",
       "      <td>-1.455000</td>\n",
       "      <td>-1.855000</td>\n",
       "      <td>-9.910000</td>\n",
       "      <td>-0.010000</td>\n",
       "      <td>-0.020000</td>\n",
       "      <td>-0.460000</td>\n",
       "      <td>-21.965000</td>\n",
       "      <td>4.680000</td>\n",
       "      <td>19.870000</td>\n",
       "    </tr>\n",
       "    <tr>\n",
       "      <th>50%</th>\n",
       "      <td>10.314714</td>\n",
       "      <td>-0.120000</td>\n",
       "      <td>0.170000</td>\n",
       "      <td>-9.800000</td>\n",
       "      <td>0.000000</td>\n",
       "      <td>0.000000</td>\n",
       "      <td>0.000000</td>\n",
       "      <td>-20.870000</td>\n",
       "      <td>9.000000</td>\n",
       "      <td>21.500000</td>\n",
       "    </tr>\n",
       "    <tr>\n",
       "      <th>75%</th>\n",
       "      <td>10.663487</td>\n",
       "      <td>0.600000</td>\n",
       "      <td>2.100000</td>\n",
       "      <td>-9.660000</td>\n",
       "      <td>0.030000</td>\n",
       "      <td>0.010000</td>\n",
       "      <td>0.520000</td>\n",
       "      <td>-19.370000</td>\n",
       "      <td>12.750000</td>\n",
       "      <td>24.060000</td>\n",
       "    </tr>\n",
       "    <tr>\n",
       "      <th>max</th>\n",
       "      <td>11.023521</td>\n",
       "      <td>4.130000</td>\n",
       "      <td>5.410000</td>\n",
       "      <td>-8.850000</td>\n",
       "      <td>0.230000</td>\n",
       "      <td>0.130000</td>\n",
       "      <td>1.920000</td>\n",
       "      <td>-15.870000</td>\n",
       "      <td>14.000000</td>\n",
       "      <td>25.500000</td>\n",
       "    </tr>\n",
       "  </tbody>\n",
       "</table>\n",
       "</div>"
      ],
      "text/plain": [
       "              t  raw_acceleration_x  raw_acceleration_y  raw_acceleration_z  \\\n",
       "mean  10.316898           -0.182381            0.078413           -9.763333   \n",
       "std    0.415462            1.662876            2.329448            0.279706   \n",
       "min    9.617316           -3.460000           -4.170000          -10.430000   \n",
       "25%    9.965829           -1.455000           -1.855000           -9.910000   \n",
       "50%   10.314714           -0.120000            0.170000           -9.800000   \n",
       "75%   10.663487            0.600000            2.100000           -9.660000   \n",
       "max   11.023521            4.130000            5.410000           -8.850000   \n",
       "\n",
       "      rotation_speed_x  rotation_speed_y  rotation_speed_z  magnetic_field_x  \\\n",
       "mean         -0.005397         -0.004921          0.014762        -20.493175   \n",
       "std           0.103765          0.033977          0.897509          1.818016   \n",
       "min          -0.550000         -0.120000         -1.830000        -23.680000   \n",
       "25%          -0.010000         -0.020000         -0.460000        -21.965000   \n",
       "50%           0.000000          0.000000          0.000000        -20.870000   \n",
       "75%           0.030000          0.010000          0.520000        -19.370000   \n",
       "max           0.230000          0.130000          1.920000        -15.870000   \n",
       "\n",
       "      magnetic_field_y  magnetic_field_z  \n",
       "mean          8.459841         21.904603  \n",
       "std           4.226093          2.197374  \n",
       "min           2.000000         19.060000  \n",
       "25%           4.680000         19.870000  \n",
       "50%           9.000000         21.500000  \n",
       "75%          12.750000         24.060000  \n",
       "max          14.000000         25.500000  "
      ]
     },
     "metadata": {},
     "output_type": "display_data"
    }
   ],
   "source": [
    "###############################\n",
    "####     Apercu Données     ###\n",
    "###############################\n",
    "data = pd.read_csv('data/group3/config_1/0_2.csv')\n",
    "u = data.describe().T.drop('count', axis=1).T\n",
    "display(u)"
   ]
  },
  {
   "cell_type": "code",
   "execution_count": 13,
   "metadata": {},
   "outputs": [],
   "source": [
    "#####################################\n",
    "## integration discrete            ##\n",
    "#####################################\n",
    "\n",
    "def double_integrate(df, col):\n",
    "    df.sort_values(by='t', inplace=True)\n",
    "    velocities = df[col].cumsum()\n",
    "    positions = velocities.cumsum()\n",
    "    return positions\n",
    "\n",
    "data['pos_x'] = double_integrate(data,'raw_acceleration_x')\n",
    "data['pos_y'] = double_integrate(data,'raw_acceleration_y')\n",
    "data['pos_z'] = double_integrate(data,'raw_acceleration_z')"
   ]
  },
  {
   "cell_type": "code",
   "execution_count": 17,
   "metadata": {},
   "outputs": [
    {
     "data": {
      "application/vnd.plotly.v1+json": {
       "config": {
        "plotlyServerURL": "https://plot.ly"
       },
       "data": [
        {
         "hovertemplate": "x=%{x}<br>y=%{y}<br>z=%{z}<extra></extra>",
         "legendgroup": "",
         "marker": {
          "color": "#636efa",
          "symbol": "circle"
         },
         "mode": "markers",
         "name": "",
         "scene": "scene",
         "showlegend": false,
         "type": "scatter3d",
         "x": [
          29.871450000000003,
          86.56344000000001,
          168.798708,
          274.838922,
          409.01225400000004,
          560.498274,
          698.1002010000001,
          859.52277,
          1041.9093090000001,
          1096.415631,
          1104.8012190000002,
          1066.894398,
          891.603432,
          600.3720000000001,
          273.69900000000007,
          26.487000000000027,
          -177.095025,
          -533.41875,
          -818.88975,
          -1068.309,
          -876.2782500000001,
          -629.06625,
          -189.82349999999988,
          518.4830250000001,
          1583.2604250000002,
          3269.82015,
          5213.3283,
          7707.2265,
          10049.002991999998,
          13367.370869999997,
          18274.194549,
          22384.32066,
          26866.885383,
          31429.25838,
          36229.156001999996,
          42958.57859999999,
          48109.648715999996,
          53058.793716,
          60704.28,
          65044.469249999995,
          70174.779444,
          73920.5082,
          77107.86745199999,
          76879.927197,
          78401.106018,
          77509.944036,
          78217.341174,
          78467.128299,
          72097.981875,
          71645.495625,
          66579.8814,
          65877.045912,
          65122.531344,
          58921.600914,
          57816.627039,
          60388.876728,
          60387.252192,
          72554.87183400002,
          73014.89412600001,
          73950.53268600002,
          83166.10750800002,
          85311.55450800003,
          95041.22630400001
         ],
         "y": [
          30.0186,
          93.09297600000001,
          187.47891,
          315.48175200000003,
          475.80854400000004,
          665.87337,
          863.0347499999999,
          1114.440525,
          1387.109475,
          1677.289275,
          1974.9737249999998,
          2252.645775,
          2336.4476999999997,
          2235.134925,
          2068.7818499999994,
          1832.3853749999994,
          1439.6420249999994,
          637.8952499999992,
          -333.29475000000076,
          -1622.328750000001,
          -2599.0368750000016,
          -3250.2904020000014,
          -4604.800266000002,
          -4877.679150000001,
          -6227.229078000001,
          -7537.334958000001,
          -7723.102023000002,
          -8781.677541000003,
          -8501.710932000002,
          -9219.504708,
          -6255.864468000001,
          -6475.533912000001,
          -6553.762776000001,
          -3643.041600000001,
          -3498.049800000001,
          -3268.299600000001,
          -2995.385400000001,
          -2664.7884000000013,
          -2279.844000000001,
          -1838.7864000000009,
          -1861.4475000000014,
          -1169.2048500000014,
          -500.70240000000126,
          158.4825119999985,
          903.6030239999988,
          2000.7926639999987,
          2801.936123999999,
          3485.547935999999,
          5018.575274999999,
          5635.673324999999,
          7679.807549999999,
          8037.553724999999,
          8190.467099999999,
          10104.7905,
          12132.313452,
          15052.464,
          14334.1758,
          12099.493116000001,
          11517.344172000003,
          11295.928548000002,
          9767.473650000004,
          10151.338950000003,
          8805.88764
         ],
         "z": [
          -1836.129852,
          -5631.724800000001,
          -11261.536650000002,
          -19481.850675,
          -29209.863600000004,
          -40934.33415,
          -52577.43075000001,
          -67613.21775000001,
          -86100.18923700001,
          -105239.84553000004,
          -126280.01764800005,
          -149234.35032000006,
          -174100.89429900004,
          -204745.172175,
          -234050.388975,
          -265228.89885,
          -292757.40693000006,
          -327167.4642210001,
          -363557.9564640001,
          -401780.74088700005,
          -441905.99038200005,
          -493158.8043,
          -537879.4551,
          -559085.4623250001,
          -605630.78784,
          -653857.7877000001,
          -772288.939125,
          -829307.602125,
          -1005746.188032,
          -1074805.796106,
          -1214770.19085,
          -1292996.1609,
          -1373681.1546,
          -1431670.587732,
          -1515681.0125100003,
          -1602058.8630060002,
          -1690838.5566240002,
          -1782079.0946280002,
          -1884540.3518340003,
          -1980777.7075140004,
          -2012402.6695080004,
          -2110091.3303220007,
          -2210130.0462870006,
          -2312578.584828001,
          -2417310.239004001,
          -2330686.041750001,
          -2431705.252500001,
          -2535026.625000001,
          -2816556.948000001,
          -2931395.162400001,
          -2944364.023602001,
          -3059765.118144001,
          -3177444.718602001,
          -3138097.826880001,
          -3171718.6785000013,
          -3467505.7685520016,
          -3591308.5493040015,
          -3666528.2811510013,
          -3792986.170776001,
          -3921515.665569001,
          -3474325.070370001,
          -3588234.591690001,
          -3873909.5357040013
         ]
        }
       ],
       "layout": {
        "legend": {
         "tracegroupgap": 0
        },
        "margin": {
         "t": 60
        },
        "scene": {
         "domain": {
          "x": [
           0,
           1
          ],
          "y": [
           0,
           1
          ]
         },
         "xaxis": {
          "title": {
           "text": "x"
          }
         },
         "yaxis": {
          "title": {
           "text": "y"
          }
         },
         "zaxis": {
          "title": {
           "text": "z"
          }
         }
        },
        "template": {
         "data": {
          "bar": [
           {
            "error_x": {
             "color": "#2a3f5f"
            },
            "error_y": {
             "color": "#2a3f5f"
            },
            "marker": {
             "line": {
              "color": "#E5ECF6",
              "width": 0.5
             },
             "pattern": {
              "fillmode": "overlay",
              "size": 10,
              "solidity": 0.2
             }
            },
            "type": "bar"
           }
          ],
          "barpolar": [
           {
            "marker": {
             "line": {
              "color": "#E5ECF6",
              "width": 0.5
             },
             "pattern": {
              "fillmode": "overlay",
              "size": 10,
              "solidity": 0.2
             }
            },
            "type": "barpolar"
           }
          ],
          "carpet": [
           {
            "aaxis": {
             "endlinecolor": "#2a3f5f",
             "gridcolor": "white",
             "linecolor": "white",
             "minorgridcolor": "white",
             "startlinecolor": "#2a3f5f"
            },
            "baxis": {
             "endlinecolor": "#2a3f5f",
             "gridcolor": "white",
             "linecolor": "white",
             "minorgridcolor": "white",
             "startlinecolor": "#2a3f5f"
            },
            "type": "carpet"
           }
          ],
          "choropleth": [
           {
            "colorbar": {
             "outlinewidth": 0,
             "ticks": ""
            },
            "type": "choropleth"
           }
          ],
          "contour": [
           {
            "colorbar": {
             "outlinewidth": 0,
             "ticks": ""
            },
            "colorscale": [
             [
              0,
              "#0d0887"
             ],
             [
              0.1111111111111111,
              "#46039f"
             ],
             [
              0.2222222222222222,
              "#7201a8"
             ],
             [
              0.3333333333333333,
              "#9c179e"
             ],
             [
              0.4444444444444444,
              "#bd3786"
             ],
             [
              0.5555555555555556,
              "#d8576b"
             ],
             [
              0.6666666666666666,
              "#ed7953"
             ],
             [
              0.7777777777777778,
              "#fb9f3a"
             ],
             [
              0.8888888888888888,
              "#fdca26"
             ],
             [
              1,
              "#f0f921"
             ]
            ],
            "type": "contour"
           }
          ],
          "contourcarpet": [
           {
            "colorbar": {
             "outlinewidth": 0,
             "ticks": ""
            },
            "type": "contourcarpet"
           }
          ],
          "heatmap": [
           {
            "colorbar": {
             "outlinewidth": 0,
             "ticks": ""
            },
            "colorscale": [
             [
              0,
              "#0d0887"
             ],
             [
              0.1111111111111111,
              "#46039f"
             ],
             [
              0.2222222222222222,
              "#7201a8"
             ],
             [
              0.3333333333333333,
              "#9c179e"
             ],
             [
              0.4444444444444444,
              "#bd3786"
             ],
             [
              0.5555555555555556,
              "#d8576b"
             ],
             [
              0.6666666666666666,
              "#ed7953"
             ],
             [
              0.7777777777777778,
              "#fb9f3a"
             ],
             [
              0.8888888888888888,
              "#fdca26"
             ],
             [
              1,
              "#f0f921"
             ]
            ],
            "type": "heatmap"
           }
          ],
          "heatmapgl": [
           {
            "colorbar": {
             "outlinewidth": 0,
             "ticks": ""
            },
            "colorscale": [
             [
              0,
              "#0d0887"
             ],
             [
              0.1111111111111111,
              "#46039f"
             ],
             [
              0.2222222222222222,
              "#7201a8"
             ],
             [
              0.3333333333333333,
              "#9c179e"
             ],
             [
              0.4444444444444444,
              "#bd3786"
             ],
             [
              0.5555555555555556,
              "#d8576b"
             ],
             [
              0.6666666666666666,
              "#ed7953"
             ],
             [
              0.7777777777777778,
              "#fb9f3a"
             ],
             [
              0.8888888888888888,
              "#fdca26"
             ],
             [
              1,
              "#f0f921"
             ]
            ],
            "type": "heatmapgl"
           }
          ],
          "histogram": [
           {
            "marker": {
             "pattern": {
              "fillmode": "overlay",
              "size": 10,
              "solidity": 0.2
             }
            },
            "type": "histogram"
           }
          ],
          "histogram2d": [
           {
            "colorbar": {
             "outlinewidth": 0,
             "ticks": ""
            },
            "colorscale": [
             [
              0,
              "#0d0887"
             ],
             [
              0.1111111111111111,
              "#46039f"
             ],
             [
              0.2222222222222222,
              "#7201a8"
             ],
             [
              0.3333333333333333,
              "#9c179e"
             ],
             [
              0.4444444444444444,
              "#bd3786"
             ],
             [
              0.5555555555555556,
              "#d8576b"
             ],
             [
              0.6666666666666666,
              "#ed7953"
             ],
             [
              0.7777777777777778,
              "#fb9f3a"
             ],
             [
              0.8888888888888888,
              "#fdca26"
             ],
             [
              1,
              "#f0f921"
             ]
            ],
            "type": "histogram2d"
           }
          ],
          "histogram2dcontour": [
           {
            "colorbar": {
             "outlinewidth": 0,
             "ticks": ""
            },
            "colorscale": [
             [
              0,
              "#0d0887"
             ],
             [
              0.1111111111111111,
              "#46039f"
             ],
             [
              0.2222222222222222,
              "#7201a8"
             ],
             [
              0.3333333333333333,
              "#9c179e"
             ],
             [
              0.4444444444444444,
              "#bd3786"
             ],
             [
              0.5555555555555556,
              "#d8576b"
             ],
             [
              0.6666666666666666,
              "#ed7953"
             ],
             [
              0.7777777777777778,
              "#fb9f3a"
             ],
             [
              0.8888888888888888,
              "#fdca26"
             ],
             [
              1,
              "#f0f921"
             ]
            ],
            "type": "histogram2dcontour"
           }
          ],
          "mesh3d": [
           {
            "colorbar": {
             "outlinewidth": 0,
             "ticks": ""
            },
            "type": "mesh3d"
           }
          ],
          "parcoords": [
           {
            "line": {
             "colorbar": {
              "outlinewidth": 0,
              "ticks": ""
             }
            },
            "type": "parcoords"
           }
          ],
          "pie": [
           {
            "automargin": true,
            "type": "pie"
           }
          ],
          "scatter": [
           {
            "fillpattern": {
             "fillmode": "overlay",
             "size": 10,
             "solidity": 0.2
            },
            "type": "scatter"
           }
          ],
          "scatter3d": [
           {
            "line": {
             "colorbar": {
              "outlinewidth": 0,
              "ticks": ""
             }
            },
            "marker": {
             "colorbar": {
              "outlinewidth": 0,
              "ticks": ""
             }
            },
            "type": "scatter3d"
           }
          ],
          "scattercarpet": [
           {
            "marker": {
             "colorbar": {
              "outlinewidth": 0,
              "ticks": ""
             }
            },
            "type": "scattercarpet"
           }
          ],
          "scattergeo": [
           {
            "marker": {
             "colorbar": {
              "outlinewidth": 0,
              "ticks": ""
             }
            },
            "type": "scattergeo"
           }
          ],
          "scattergl": [
           {
            "marker": {
             "colorbar": {
              "outlinewidth": 0,
              "ticks": ""
             }
            },
            "type": "scattergl"
           }
          ],
          "scattermapbox": [
           {
            "marker": {
             "colorbar": {
              "outlinewidth": 0,
              "ticks": ""
             }
            },
            "type": "scattermapbox"
           }
          ],
          "scatterpolar": [
           {
            "marker": {
             "colorbar": {
              "outlinewidth": 0,
              "ticks": ""
             }
            },
            "type": "scatterpolar"
           }
          ],
          "scatterpolargl": [
           {
            "marker": {
             "colorbar": {
              "outlinewidth": 0,
              "ticks": ""
             }
            },
            "type": "scatterpolargl"
           }
          ],
          "scatterternary": [
           {
            "marker": {
             "colorbar": {
              "outlinewidth": 0,
              "ticks": ""
             }
            },
            "type": "scatterternary"
           }
          ],
          "surface": [
           {
            "colorbar": {
             "outlinewidth": 0,
             "ticks": ""
            },
            "colorscale": [
             [
              0,
              "#0d0887"
             ],
             [
              0.1111111111111111,
              "#46039f"
             ],
             [
              0.2222222222222222,
              "#7201a8"
             ],
             [
              0.3333333333333333,
              "#9c179e"
             ],
             [
              0.4444444444444444,
              "#bd3786"
             ],
             [
              0.5555555555555556,
              "#d8576b"
             ],
             [
              0.6666666666666666,
              "#ed7953"
             ],
             [
              0.7777777777777778,
              "#fb9f3a"
             ],
             [
              0.8888888888888888,
              "#fdca26"
             ],
             [
              1,
              "#f0f921"
             ]
            ],
            "type": "surface"
           }
          ],
          "table": [
           {
            "cells": {
             "fill": {
              "color": "#EBF0F8"
             },
             "line": {
              "color": "white"
             }
            },
            "header": {
             "fill": {
              "color": "#C8D4E3"
             },
             "line": {
              "color": "white"
             }
            },
            "type": "table"
           }
          ]
         },
         "layout": {
          "annotationdefaults": {
           "arrowcolor": "#2a3f5f",
           "arrowhead": 0,
           "arrowwidth": 1
          },
          "autotypenumbers": "strict",
          "coloraxis": {
           "colorbar": {
            "outlinewidth": 0,
            "ticks": ""
           }
          },
          "colorscale": {
           "diverging": [
            [
             0,
             "#8e0152"
            ],
            [
             0.1,
             "#c51b7d"
            ],
            [
             0.2,
             "#de77ae"
            ],
            [
             0.3,
             "#f1b6da"
            ],
            [
             0.4,
             "#fde0ef"
            ],
            [
             0.5,
             "#f7f7f7"
            ],
            [
             0.6,
             "#e6f5d0"
            ],
            [
             0.7,
             "#b8e186"
            ],
            [
             0.8,
             "#7fbc41"
            ],
            [
             0.9,
             "#4d9221"
            ],
            [
             1,
             "#276419"
            ]
           ],
           "sequential": [
            [
             0,
             "#0d0887"
            ],
            [
             0.1111111111111111,
             "#46039f"
            ],
            [
             0.2222222222222222,
             "#7201a8"
            ],
            [
             0.3333333333333333,
             "#9c179e"
            ],
            [
             0.4444444444444444,
             "#bd3786"
            ],
            [
             0.5555555555555556,
             "#d8576b"
            ],
            [
             0.6666666666666666,
             "#ed7953"
            ],
            [
             0.7777777777777778,
             "#fb9f3a"
            ],
            [
             0.8888888888888888,
             "#fdca26"
            ],
            [
             1,
             "#f0f921"
            ]
           ],
           "sequentialminus": [
            [
             0,
             "#0d0887"
            ],
            [
             0.1111111111111111,
             "#46039f"
            ],
            [
             0.2222222222222222,
             "#7201a8"
            ],
            [
             0.3333333333333333,
             "#9c179e"
            ],
            [
             0.4444444444444444,
             "#bd3786"
            ],
            [
             0.5555555555555556,
             "#d8576b"
            ],
            [
             0.6666666666666666,
             "#ed7953"
            ],
            [
             0.7777777777777778,
             "#fb9f3a"
            ],
            [
             0.8888888888888888,
             "#fdca26"
            ],
            [
             1,
             "#f0f921"
            ]
           ]
          },
          "colorway": [
           "#636efa",
           "#EF553B",
           "#00cc96",
           "#ab63fa",
           "#FFA15A",
           "#19d3f3",
           "#FF6692",
           "#B6E880",
           "#FF97FF",
           "#FECB52"
          ],
          "font": {
           "color": "#2a3f5f"
          },
          "geo": {
           "bgcolor": "white",
           "lakecolor": "white",
           "landcolor": "#E5ECF6",
           "showlakes": true,
           "showland": true,
           "subunitcolor": "white"
          },
          "hoverlabel": {
           "align": "left"
          },
          "hovermode": "closest",
          "mapbox": {
           "style": "light"
          },
          "paper_bgcolor": "white",
          "plot_bgcolor": "#E5ECF6",
          "polar": {
           "angularaxis": {
            "gridcolor": "white",
            "linecolor": "white",
            "ticks": ""
           },
           "bgcolor": "#E5ECF6",
           "radialaxis": {
            "gridcolor": "white",
            "linecolor": "white",
            "ticks": ""
           }
          },
          "scene": {
           "xaxis": {
            "backgroundcolor": "#E5ECF6",
            "gridcolor": "white",
            "gridwidth": 2,
            "linecolor": "white",
            "showbackground": true,
            "ticks": "",
            "zerolinecolor": "white"
           },
           "yaxis": {
            "backgroundcolor": "#E5ECF6",
            "gridcolor": "white",
            "gridwidth": 2,
            "linecolor": "white",
            "showbackground": true,
            "ticks": "",
            "zerolinecolor": "white"
           },
           "zaxis": {
            "backgroundcolor": "#E5ECF6",
            "gridcolor": "white",
            "gridwidth": 2,
            "linecolor": "white",
            "showbackground": true,
            "ticks": "",
            "zerolinecolor": "white"
           }
          },
          "shapedefaults": {
           "line": {
            "color": "#2a3f5f"
           }
          },
          "ternary": {
           "aaxis": {
            "gridcolor": "white",
            "linecolor": "white",
            "ticks": ""
           },
           "baxis": {
            "gridcolor": "white",
            "linecolor": "white",
            "ticks": ""
           },
           "bgcolor": "#E5ECF6",
           "caxis": {
            "gridcolor": "white",
            "linecolor": "white",
            "ticks": ""
           }
          },
          "title": {
           "x": 0.05
          },
          "xaxis": {
           "automargin": true,
           "gridcolor": "white",
           "linecolor": "white",
           "ticks": "",
           "title": {
            "standoff": 15
           },
           "zerolinecolor": "white",
           "zerolinewidth": 2
          },
          "yaxis": {
           "automargin": true,
           "gridcolor": "white",
           "linecolor": "white",
           "ticks": "",
           "title": {
            "standoff": 15
           },
           "zerolinecolor": "white",
           "zerolinewidth": 2
          }
         }
        }
       }
      }
     },
     "metadata": {},
     "output_type": "display_data"
    },
    {
     "data": {
      "text/plain": [
       "<Figure size 600x500 with 0 Axes>"
      ]
     },
     "metadata": {},
     "output_type": "display_data"
    }
   ],
   "source": [
    "sns.set_style(\"darkgrid\")\n",
    "\n",
    "# x1 = data.pos_x\n",
    "# y1 = data.pos_y\n",
    "# z1 = data.pos_z\n",
    "\n",
    "x1 = data.pos_x * (9.81*data.magnetic_field_x)\n",
    "y1 = data.pos_y * (9.81*data.magnetic_field_y)\n",
    "z1 = data.pos_z * (9.81*data.magnetic_field_z)\n",
    "\n",
    "plt.figure(figsize=(6, 5))\n",
    "fig = px.scatter_3d(data, x=x1, y=y1, z=z1)\n",
    "fig.show()"
   ]
  },
  {
   "cell_type": "code",
   "execution_count": null,
   "metadata": {},
   "outputs": [],
   "source": []
  }
 ],
 "metadata": {
  "kernelspec": {
   "display_name": "base",
   "language": "python",
   "name": "python3"
  },
  "language_info": {
   "codemirror_mode": {
    "name": "ipython",
    "version": 3
   },
   "file_extension": ".py",
   "mimetype": "text/x-python",
   "name": "python",
   "nbconvert_exporter": "python",
   "pygments_lexer": "ipython3",
   "version": "3.9.18"
  }
 },
 "nbformat": 4,
 "nbformat_minor": 2
}
