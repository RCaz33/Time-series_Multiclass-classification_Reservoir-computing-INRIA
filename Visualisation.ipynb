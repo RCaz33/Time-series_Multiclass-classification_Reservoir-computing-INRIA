{
 "cells": [
  {
   "cell_type": "code",
   "execution_count": 15,
   "metadata": {},
   "outputs": [],
   "source": [
    "import os\n",
    "import pandas as pd\n",
    "import numpy as np \n",
    "import seaborn as sns\n",
    "import plotly.express as px\n",
    "from sklearn.model_selection import train_test_split\n",
    "from sklearn.tree import DecisionTreeClassifier\n",
    "from sklearn.metrics import accuracy_score\n",
    "\n",
    "import matplotlib.pyplot as plt"
   ]
  },
  {
   "cell_type": "markdown",
   "metadata": {},
   "source": [
    "# visualisation des données"
   ]
  },
  {
   "cell_type": "code",
   "execution_count": 16,
   "metadata": {},
   "outputs": [
    {
     "name": "stdout",
     "output_type": "stream",
     "text": [
      "5.18.0\n"
     ]
    }
   ],
   "source": [
    "import plotly\n",
    "print(plotly.__version__)"
   ]
  },
  {
   "cell_type": "code",
   "execution_count": 17,
   "metadata": {},
   "outputs": [
    {
     "data": {
      "text/html": [
       "<div>\n",
       "<style scoped>\n",
       "    .dataframe tbody tr th:only-of-type {\n",
       "        vertical-align: middle;\n",
       "    }\n",
       "\n",
       "    .dataframe tbody tr th {\n",
       "        vertical-align: top;\n",
       "    }\n",
       "\n",
       "    .dataframe thead th {\n",
       "        text-align: right;\n",
       "    }\n",
       "</style>\n",
       "<table border=\"1\" class=\"dataframe\">\n",
       "  <thead>\n",
       "    <tr style=\"text-align: right;\">\n",
       "      <th></th>\n",
       "      <th>t</th>\n",
       "      <th>raw_acceleration_x</th>\n",
       "      <th>raw_acceleration_y</th>\n",
       "      <th>raw_acceleration_z</th>\n",
       "      <th>rotation_speed_x</th>\n",
       "      <th>rotation_speed_y</th>\n",
       "      <th>rotation_speed_z</th>\n",
       "      <th>magnetic_field_x</th>\n",
       "      <th>magnetic_field_y</th>\n",
       "      <th>magnetic_field_z</th>\n",
       "    </tr>\n",
       "  </thead>\n",
       "  <tbody>\n",
       "    <tr>\n",
       "      <th>mean</th>\n",
       "      <td>5.918949</td>\n",
       "      <td>-0.476562</td>\n",
       "      <td>0.272031</td>\n",
       "      <td>-9.847969</td>\n",
       "      <td>-0.000469</td>\n",
       "      <td>-0.000781</td>\n",
       "      <td>-0.126719</td>\n",
       "      <td>19.562656</td>\n",
       "      <td>32.545938</td>\n",
       "      <td>19.145313</td>\n",
       "    </tr>\n",
       "    <tr>\n",
       "      <th>std</th>\n",
       "      <td>0.432942</td>\n",
       "      <td>2.352189</td>\n",
       "      <td>2.673165</td>\n",
       "      <td>0.258083</td>\n",
       "      <td>0.071168</td>\n",
       "      <td>0.014508</td>\n",
       "      <td>0.574374</td>\n",
       "      <td>13.041832</td>\n",
       "      <td>10.616563</td>\n",
       "      <td>14.520867</td>\n",
       "    </tr>\n",
       "    <tr>\n",
       "      <th>min</th>\n",
       "      <td>5.195035</td>\n",
       "      <td>-6.430000</td>\n",
       "      <td>-5.450000</td>\n",
       "      <td>-10.630000</td>\n",
       "      <td>-0.250000</td>\n",
       "      <td>-0.050000</td>\n",
       "      <td>-1.510000</td>\n",
       "      <td>-11.370000</td>\n",
       "      <td>15.060000</td>\n",
       "      <td>-23.870000</td>\n",
       "    </tr>\n",
       "    <tr>\n",
       "      <th>25%</th>\n",
       "      <td>5.550989</td>\n",
       "      <td>-2.142500</td>\n",
       "      <td>-1.660000</td>\n",
       "      <td>-9.940000</td>\n",
       "      <td>-0.020000</td>\n",
       "      <td>-0.002500</td>\n",
       "      <td>-0.465000</td>\n",
       "      <td>16.900000</td>\n",
       "      <td>22.560000</td>\n",
       "      <td>9.510000</td>\n",
       "    </tr>\n",
       "    <tr>\n",
       "      <th>50%</th>\n",
       "      <td>5.905525</td>\n",
       "      <td>-0.865000</td>\n",
       "      <td>0.145000</td>\n",
       "      <td>-9.860000</td>\n",
       "      <td>0.000000</td>\n",
       "      <td>0.000000</td>\n",
       "      <td>0.000000</td>\n",
       "      <td>24.370000</td>\n",
       "      <td>30.370000</td>\n",
       "      <td>19.180000</td>\n",
       "    </tr>\n",
       "    <tr>\n",
       "      <th>75%</th>\n",
       "      <td>6.293660</td>\n",
       "      <td>0.285000</td>\n",
       "      <td>2.437500</td>\n",
       "      <td>-9.730000</td>\n",
       "      <td>0.010000</td>\n",
       "      <td>0.010000</td>\n",
       "      <td>0.260000</td>\n",
       "      <td>26.250000</td>\n",
       "      <td>39.750000</td>\n",
       "      <td>29.500000</td>\n",
       "    </tr>\n",
       "    <tr>\n",
       "      <th>max</th>\n",
       "      <td>6.648196</td>\n",
       "      <td>4.590000</td>\n",
       "      <td>6.520000</td>\n",
       "      <td>-8.910000</td>\n",
       "      <td>0.420000</td>\n",
       "      <td>0.040000</td>\n",
       "      <td>1.210000</td>\n",
       "      <td>39.000000</td>\n",
       "      <td>50.870000</td>\n",
       "      <td>42.560000</td>\n",
       "    </tr>\n",
       "  </tbody>\n",
       "</table>\n",
       "</div>"
      ],
      "text/plain": [
       "             t  raw_acceleration_x  raw_acceleration_y  raw_acceleration_z  \\\n",
       "mean  5.918949           -0.476562            0.272031           -9.847969   \n",
       "std   0.432942            2.352189            2.673165            0.258083   \n",
       "min   5.195035           -6.430000           -5.450000          -10.630000   \n",
       "25%   5.550989           -2.142500           -1.660000           -9.940000   \n",
       "50%   5.905525           -0.865000            0.145000           -9.860000   \n",
       "75%   6.293660            0.285000            2.437500           -9.730000   \n",
       "max   6.648196            4.590000            6.520000           -8.910000   \n",
       "\n",
       "      rotation_speed_x  rotation_speed_y  rotation_speed_z  magnetic_field_x  \\\n",
       "mean         -0.000469         -0.000781         -0.126719         19.562656   \n",
       "std           0.071168          0.014508          0.574374         13.041832   \n",
       "min          -0.250000         -0.050000         -1.510000        -11.370000   \n",
       "25%          -0.020000         -0.002500         -0.465000         16.900000   \n",
       "50%           0.000000          0.000000          0.000000         24.370000   \n",
       "75%           0.010000          0.010000          0.260000         26.250000   \n",
       "max           0.420000          0.040000          1.210000         39.000000   \n",
       "\n",
       "      magnetic_field_y  magnetic_field_z  \n",
       "mean         32.545938         19.145313  \n",
       "std          10.616563         14.520867  \n",
       "min          15.060000        -23.870000  \n",
       "25%          22.560000          9.510000  \n",
       "50%          30.370000         19.180000  \n",
       "75%          39.750000         29.500000  \n",
       "max          50.870000         42.560000  "
      ]
     },
     "metadata": {},
     "output_type": "display_data"
    }
   ],
   "source": [
    "###############################\n",
    "####     Apercu Données     ###\n",
    "###############################\n",
    "data = pd.read_csv('data/group3/config_1/9_2.csv')\n",
    "u = data.describe().T.drop('count', axis=1).T\n",
    "display(u)"
   ]
  },
  {
   "cell_type": "code",
   "execution_count": 18,
   "metadata": {},
   "outputs": [],
   "source": [
    "#####################################\n",
    "## integration discrete            ##\n",
    "#####################################\n",
    "\n",
    "def double_integrate(df, col):\n",
    "    df.sort_values(by='t', inplace=True)\n",
    "    velocities = df[col].cumsum()\n",
    "    positions = velocities.cumsum()\n",
    "    return positions\n",
    "\n",
    "data['pos_x'] = double_integrate(data,'raw_acceleration_x')\n",
    "data['pos_y'] = double_integrate(data,'raw_acceleration_y')\n",
    "data['pos_z'] = double_integrate(data,'raw_acceleration_z')"
   ]
  },
  {
   "cell_type": "code",
   "execution_count": 22,
   "metadata": {},
   "outputs": [
    {
     "data": {
      "application/vnd.plotly.v1+json": {
       "config": {
        "plotlyServerURL": "https://plot.ly"
       },
       "data": [
        {
         "hovertemplate": "pos_x=%{x}<br>pos_y=%{y}<br>pos_z=%{z}<extra></extra>",
         "legendgroup": "",
         "marker": {
          "color": "#636efa",
          "symbol": "circle"
         },
         "mode": "markers",
         "name": "",
         "scene": "scene",
         "showlegend": false,
         "type": "scatter3d",
         "x": [
          -0.32,
          -0.96,
          -1.98,
          -3.33,
          -5.11,
          -7.140000000000001,
          -9.25,
          -11.82,
          -14.88,
          -18.12,
          -21.64,
          -27.16,
          -35.38,
          -47.300000000000004,
          -62.730000000000004,
          -80.99000000000001,
          -101.79,
          -123.81,
          -148.01,
          -173.66,
          -199.87,
          -225.6,
          -250.62,
          -273.83,
          -295.15,
          -313.64,
          -327.78999999999996,
          -337.92999999999995,
          -343.55999999999995,
          -344.80999999999995,
          -342.61999999999995,
          -337.41999999999996,
          -331.00999999999993,
          -326.3999999999999,
          -323.50999999999993,
          -322.1699999999999,
          -323.4699999999999,
          -327.2099999999999,
          -333.1799999999999,
          -340.9999999999999,
          -350.9499999999999,
          -363.3799999999999,
          -382.2399999999999,
          -403.8699999999999,
          -428.07999999999987,
          -453.45999999999987,
          -479.8899999999999,
          -507.26999999999987,
          -535.4999999999999,
          -564.7099999999999,
          -594.8299999999999,
          -626.9499999999999,
          -660.8599999999999,
          -696.9699999999999,
          -736.4099999999999,
          -779.1499999999999,
          -822.7699999999999,
          -867.0299999999999,
          -911.4899999999999,
          -955.7299999999999,
          -998.2299999999999,
          -1036.9599999999998,
          -1071.1,
          -1101.6
         ],
         "y": [
          0.03,
          0.11,
          0.32,
          0.6300000000000001,
          1.1500000000000001,
          1.6400000000000001,
          1.9300000000000002,
          2.38,
          3.11,
          3.75,
          4.44,
          4.08,
          0.4200000000000004,
          -5.41,
          -11.3,
          -16.240000000000002,
          -19.590000000000003,
          -20.520000000000003,
          -18.870000000000005,
          -14.430000000000003,
          -7.840000000000003,
          0.9999999999999964,
          12.189999999999996,
          26.209999999999994,
          43.67999999999999,
          64.25,
          86.52,
          109.50999999999999,
          130.63,
          150.68,
          167.76,
          181.20999999999998,
          190.52999999999997,
          197.70999999999998,
          203.29999999999998,
          208.45999999999998,
          214.45999999999998,
          221.89999999999998,
          231.43999999999997,
          244.53999999999996,
          262.09999999999997,
          283.47999999999996,
          311.37999999999994,
          343.3999999999999,
          379.2099999999999,
          418.2399999999999,
          459.7599999999999,
          502.2299999999999,
          543.9499999999999,
          584.8399999999999,
          623.0999999999999,
          658.4699999999999,
          690.2399999999999,
          718.1999999999999,
          741.03,
          758.41,
          771.3499999999999,
          781.2499999999999,
          789.0499999999998,
          795.9899999999999,
          803.18,
          813.2199999999999,
          826.91,
          844.3199999999999
         ],
         "z": [
          -9.86,
          -29.61,
          -59.24,
          -98.73,
          -148.14000000000001,
          -207.55,
          -276.84000000000003,
          -355.99,
          -445,
          -543.87,
          -652.6,
          -770.98,
          -899.09,
          -1036.92,
          -1184.38,
          -1341.7600000000002,
          -1509.0800000000002,
          -1686.5000000000002,
          -1873.7600000000002,
          -2071,
          -2278.15,
          -2495.14,
          -2722.04,
          -2958.93,
          -3205.68,
          -3462.52,
          -3729.39,
          -4006.47,
          -4294.12,
          -4591.99,
          -4899.75,
          -5217.22,
          -5544.900000000001,
          -5881.85,
          -6228.41,
          -6584.8099999999995,
          -6951.07,
          -7327.0599999999995,
          -7712.78,
          -8108.339999999999,
          -8513.839999999998,
          -8929.239999999998,
          -9353.999999999998,
          -9788.509999999998,
          -10232.919999999998,
          -10687.459999999997,
          -11151.999999999996,
          -11626.049999999996,
          -12109.899999999996,
          -12603.429999999997,
          -13106.439999999997,
          -13618.959999999997,
          -14141.419999999996,
          -14673.519999999997,
          -15215.349999999997,
          -15766.789999999997,
          -16327.139999999998,
          -16897.329999999998,
          -17477.609999999997,
          -18067.829999999998,
          -18668.679999999997,
          -19279.209999999995,
          -19899.579999999994,
          -20529.849999999995
         ]
        }
       ],
       "layout": {
        "legend": {
         "tracegroupgap": 0
        },
        "margin": {
         "t": 60
        },
        "scene": {
         "domain": {
          "x": [
           0,
           1
          ],
          "y": [
           0,
           1
          ]
         },
         "xaxis": {
          "title": {
           "text": "pos_x"
          }
         },
         "yaxis": {
          "title": {
           "text": "pos_y"
          }
         },
         "zaxis": {
          "title": {
           "text": "pos_z"
          }
         }
        },
        "template": {
         "data": {
          "bar": [
           {
            "error_x": {
             "color": "#2a3f5f"
            },
            "error_y": {
             "color": "#2a3f5f"
            },
            "marker": {
             "line": {
              "color": "#E5ECF6",
              "width": 0.5
             },
             "pattern": {
              "fillmode": "overlay",
              "size": 10,
              "solidity": 0.2
             }
            },
            "type": "bar"
           }
          ],
          "barpolar": [
           {
            "marker": {
             "line": {
              "color": "#E5ECF6",
              "width": 0.5
             },
             "pattern": {
              "fillmode": "overlay",
              "size": 10,
              "solidity": 0.2
             }
            },
            "type": "barpolar"
           }
          ],
          "carpet": [
           {
            "aaxis": {
             "endlinecolor": "#2a3f5f",
             "gridcolor": "white",
             "linecolor": "white",
             "minorgridcolor": "white",
             "startlinecolor": "#2a3f5f"
            },
            "baxis": {
             "endlinecolor": "#2a3f5f",
             "gridcolor": "white",
             "linecolor": "white",
             "minorgridcolor": "white",
             "startlinecolor": "#2a3f5f"
            },
            "type": "carpet"
           }
          ],
          "choropleth": [
           {
            "colorbar": {
             "outlinewidth": 0,
             "ticks": ""
            },
            "type": "choropleth"
           }
          ],
          "contour": [
           {
            "colorbar": {
             "outlinewidth": 0,
             "ticks": ""
            },
            "colorscale": [
             [
              0,
              "#0d0887"
             ],
             [
              0.1111111111111111,
              "#46039f"
             ],
             [
              0.2222222222222222,
              "#7201a8"
             ],
             [
              0.3333333333333333,
              "#9c179e"
             ],
             [
              0.4444444444444444,
              "#bd3786"
             ],
             [
              0.5555555555555556,
              "#d8576b"
             ],
             [
              0.6666666666666666,
              "#ed7953"
             ],
             [
              0.7777777777777778,
              "#fb9f3a"
             ],
             [
              0.8888888888888888,
              "#fdca26"
             ],
             [
              1,
              "#f0f921"
             ]
            ],
            "type": "contour"
           }
          ],
          "contourcarpet": [
           {
            "colorbar": {
             "outlinewidth": 0,
             "ticks": ""
            },
            "type": "contourcarpet"
           }
          ],
          "heatmap": [
           {
            "colorbar": {
             "outlinewidth": 0,
             "ticks": ""
            },
            "colorscale": [
             [
              0,
              "#0d0887"
             ],
             [
              0.1111111111111111,
              "#46039f"
             ],
             [
              0.2222222222222222,
              "#7201a8"
             ],
             [
              0.3333333333333333,
              "#9c179e"
             ],
             [
              0.4444444444444444,
              "#bd3786"
             ],
             [
              0.5555555555555556,
              "#d8576b"
             ],
             [
              0.6666666666666666,
              "#ed7953"
             ],
             [
              0.7777777777777778,
              "#fb9f3a"
             ],
             [
              0.8888888888888888,
              "#fdca26"
             ],
             [
              1,
              "#f0f921"
             ]
            ],
            "type": "heatmap"
           }
          ],
          "heatmapgl": [
           {
            "colorbar": {
             "outlinewidth": 0,
             "ticks": ""
            },
            "colorscale": [
             [
              0,
              "#0d0887"
             ],
             [
              0.1111111111111111,
              "#46039f"
             ],
             [
              0.2222222222222222,
              "#7201a8"
             ],
             [
              0.3333333333333333,
              "#9c179e"
             ],
             [
              0.4444444444444444,
              "#bd3786"
             ],
             [
              0.5555555555555556,
              "#d8576b"
             ],
             [
              0.6666666666666666,
              "#ed7953"
             ],
             [
              0.7777777777777778,
              "#fb9f3a"
             ],
             [
              0.8888888888888888,
              "#fdca26"
             ],
             [
              1,
              "#f0f921"
             ]
            ],
            "type": "heatmapgl"
           }
          ],
          "histogram": [
           {
            "marker": {
             "pattern": {
              "fillmode": "overlay",
              "size": 10,
              "solidity": 0.2
             }
            },
            "type": "histogram"
           }
          ],
          "histogram2d": [
           {
            "colorbar": {
             "outlinewidth": 0,
             "ticks": ""
            },
            "colorscale": [
             [
              0,
              "#0d0887"
             ],
             [
              0.1111111111111111,
              "#46039f"
             ],
             [
              0.2222222222222222,
              "#7201a8"
             ],
             [
              0.3333333333333333,
              "#9c179e"
             ],
             [
              0.4444444444444444,
              "#bd3786"
             ],
             [
              0.5555555555555556,
              "#d8576b"
             ],
             [
              0.6666666666666666,
              "#ed7953"
             ],
             [
              0.7777777777777778,
              "#fb9f3a"
             ],
             [
              0.8888888888888888,
              "#fdca26"
             ],
             [
              1,
              "#f0f921"
             ]
            ],
            "type": "histogram2d"
           }
          ],
          "histogram2dcontour": [
           {
            "colorbar": {
             "outlinewidth": 0,
             "ticks": ""
            },
            "colorscale": [
             [
              0,
              "#0d0887"
             ],
             [
              0.1111111111111111,
              "#46039f"
             ],
             [
              0.2222222222222222,
              "#7201a8"
             ],
             [
              0.3333333333333333,
              "#9c179e"
             ],
             [
              0.4444444444444444,
              "#bd3786"
             ],
             [
              0.5555555555555556,
              "#d8576b"
             ],
             [
              0.6666666666666666,
              "#ed7953"
             ],
             [
              0.7777777777777778,
              "#fb9f3a"
             ],
             [
              0.8888888888888888,
              "#fdca26"
             ],
             [
              1,
              "#f0f921"
             ]
            ],
            "type": "histogram2dcontour"
           }
          ],
          "mesh3d": [
           {
            "colorbar": {
             "outlinewidth": 0,
             "ticks": ""
            },
            "type": "mesh3d"
           }
          ],
          "parcoords": [
           {
            "line": {
             "colorbar": {
              "outlinewidth": 0,
              "ticks": ""
             }
            },
            "type": "parcoords"
           }
          ],
          "pie": [
           {
            "automargin": true,
            "type": "pie"
           }
          ],
          "scatter": [
           {
            "fillpattern": {
             "fillmode": "overlay",
             "size": 10,
             "solidity": 0.2
            },
            "type": "scatter"
           }
          ],
          "scatter3d": [
           {
            "line": {
             "colorbar": {
              "outlinewidth": 0,
              "ticks": ""
             }
            },
            "marker": {
             "colorbar": {
              "outlinewidth": 0,
              "ticks": ""
             }
            },
            "type": "scatter3d"
           }
          ],
          "scattercarpet": [
           {
            "marker": {
             "colorbar": {
              "outlinewidth": 0,
              "ticks": ""
             }
            },
            "type": "scattercarpet"
           }
          ],
          "scattergeo": [
           {
            "marker": {
             "colorbar": {
              "outlinewidth": 0,
              "ticks": ""
             }
            },
            "type": "scattergeo"
           }
          ],
          "scattergl": [
           {
            "marker": {
             "colorbar": {
              "outlinewidth": 0,
              "ticks": ""
             }
            },
            "type": "scattergl"
           }
          ],
          "scattermapbox": [
           {
            "marker": {
             "colorbar": {
              "outlinewidth": 0,
              "ticks": ""
             }
            },
            "type": "scattermapbox"
           }
          ],
          "scatterpolar": [
           {
            "marker": {
             "colorbar": {
              "outlinewidth": 0,
              "ticks": ""
             }
            },
            "type": "scatterpolar"
           }
          ],
          "scatterpolargl": [
           {
            "marker": {
             "colorbar": {
              "outlinewidth": 0,
              "ticks": ""
             }
            },
            "type": "scatterpolargl"
           }
          ],
          "scatterternary": [
           {
            "marker": {
             "colorbar": {
              "outlinewidth": 0,
              "ticks": ""
             }
            },
            "type": "scatterternary"
           }
          ],
          "surface": [
           {
            "colorbar": {
             "outlinewidth": 0,
             "ticks": ""
            },
            "colorscale": [
             [
              0,
              "#0d0887"
             ],
             [
              0.1111111111111111,
              "#46039f"
             ],
             [
              0.2222222222222222,
              "#7201a8"
             ],
             [
              0.3333333333333333,
              "#9c179e"
             ],
             [
              0.4444444444444444,
              "#bd3786"
             ],
             [
              0.5555555555555556,
              "#d8576b"
             ],
             [
              0.6666666666666666,
              "#ed7953"
             ],
             [
              0.7777777777777778,
              "#fb9f3a"
             ],
             [
              0.8888888888888888,
              "#fdca26"
             ],
             [
              1,
              "#f0f921"
             ]
            ],
            "type": "surface"
           }
          ],
          "table": [
           {
            "cells": {
             "fill": {
              "color": "#EBF0F8"
             },
             "line": {
              "color": "white"
             }
            },
            "header": {
             "fill": {
              "color": "#C8D4E3"
             },
             "line": {
              "color": "white"
             }
            },
            "type": "table"
           }
          ]
         },
         "layout": {
          "annotationdefaults": {
           "arrowcolor": "#2a3f5f",
           "arrowhead": 0,
           "arrowwidth": 1
          },
          "autotypenumbers": "strict",
          "coloraxis": {
           "colorbar": {
            "outlinewidth": 0,
            "ticks": ""
           }
          },
          "colorscale": {
           "diverging": [
            [
             0,
             "#8e0152"
            ],
            [
             0.1,
             "#c51b7d"
            ],
            [
             0.2,
             "#de77ae"
            ],
            [
             0.3,
             "#f1b6da"
            ],
            [
             0.4,
             "#fde0ef"
            ],
            [
             0.5,
             "#f7f7f7"
            ],
            [
             0.6,
             "#e6f5d0"
            ],
            [
             0.7,
             "#b8e186"
            ],
            [
             0.8,
             "#7fbc41"
            ],
            [
             0.9,
             "#4d9221"
            ],
            [
             1,
             "#276419"
            ]
           ],
           "sequential": [
            [
             0,
             "#0d0887"
            ],
            [
             0.1111111111111111,
             "#46039f"
            ],
            [
             0.2222222222222222,
             "#7201a8"
            ],
            [
             0.3333333333333333,
             "#9c179e"
            ],
            [
             0.4444444444444444,
             "#bd3786"
            ],
            [
             0.5555555555555556,
             "#d8576b"
            ],
            [
             0.6666666666666666,
             "#ed7953"
            ],
            [
             0.7777777777777778,
             "#fb9f3a"
            ],
            [
             0.8888888888888888,
             "#fdca26"
            ],
            [
             1,
             "#f0f921"
            ]
           ],
           "sequentialminus": [
            [
             0,
             "#0d0887"
            ],
            [
             0.1111111111111111,
             "#46039f"
            ],
            [
             0.2222222222222222,
             "#7201a8"
            ],
            [
             0.3333333333333333,
             "#9c179e"
            ],
            [
             0.4444444444444444,
             "#bd3786"
            ],
            [
             0.5555555555555556,
             "#d8576b"
            ],
            [
             0.6666666666666666,
             "#ed7953"
            ],
            [
             0.7777777777777778,
             "#fb9f3a"
            ],
            [
             0.8888888888888888,
             "#fdca26"
            ],
            [
             1,
             "#f0f921"
            ]
           ]
          },
          "colorway": [
           "#636efa",
           "#EF553B",
           "#00cc96",
           "#ab63fa",
           "#FFA15A",
           "#19d3f3",
           "#FF6692",
           "#B6E880",
           "#FF97FF",
           "#FECB52"
          ],
          "font": {
           "color": "#2a3f5f"
          },
          "geo": {
           "bgcolor": "white",
           "lakecolor": "white",
           "landcolor": "#E5ECF6",
           "showlakes": true,
           "showland": true,
           "subunitcolor": "white"
          },
          "hoverlabel": {
           "align": "left"
          },
          "hovermode": "closest",
          "mapbox": {
           "style": "light"
          },
          "paper_bgcolor": "white",
          "plot_bgcolor": "#E5ECF6",
          "polar": {
           "angularaxis": {
            "gridcolor": "white",
            "linecolor": "white",
            "ticks": ""
           },
           "bgcolor": "#E5ECF6",
           "radialaxis": {
            "gridcolor": "white",
            "linecolor": "white",
            "ticks": ""
           }
          },
          "scene": {
           "xaxis": {
            "backgroundcolor": "#E5ECF6",
            "gridcolor": "white",
            "gridwidth": 2,
            "linecolor": "white",
            "showbackground": true,
            "ticks": "",
            "zerolinecolor": "white"
           },
           "yaxis": {
            "backgroundcolor": "#E5ECF6",
            "gridcolor": "white",
            "gridwidth": 2,
            "linecolor": "white",
            "showbackground": true,
            "ticks": "",
            "zerolinecolor": "white"
           },
           "zaxis": {
            "backgroundcolor": "#E5ECF6",
            "gridcolor": "white",
            "gridwidth": 2,
            "linecolor": "white",
            "showbackground": true,
            "ticks": "",
            "zerolinecolor": "white"
           }
          },
          "shapedefaults": {
           "line": {
            "color": "#2a3f5f"
           }
          },
          "ternary": {
           "aaxis": {
            "gridcolor": "white",
            "linecolor": "white",
            "ticks": ""
           },
           "baxis": {
            "gridcolor": "white",
            "linecolor": "white",
            "ticks": ""
           },
           "bgcolor": "#E5ECF6",
           "caxis": {
            "gridcolor": "white",
            "linecolor": "white",
            "ticks": ""
           }
          },
          "title": {
           "x": 0.05
          },
          "xaxis": {
           "automargin": true,
           "gridcolor": "white",
           "linecolor": "white",
           "ticks": "",
           "title": {
            "standoff": 15
           },
           "zerolinecolor": "white",
           "zerolinewidth": 2
          },
          "yaxis": {
           "automargin": true,
           "gridcolor": "white",
           "linecolor": "white",
           "ticks": "",
           "title": {
            "standoff": 15
           },
           "zerolinecolor": "white",
           "zerolinewidth": 2
          }
         }
        }
       }
      }
     },
     "metadata": {},
     "output_type": "display_data"
    },
    {
     "data": {
      "text/plain": [
       "<Figure size 600x500 with 0 Axes>"
      ]
     },
     "metadata": {},
     "output_type": "display_data"
    }
   ],
   "source": [
    "sns.set_style(\"darkgrid\")\n",
    "\n",
    "# x1 = data.pos_x\n",
    "# y1 = data.pos_y\n",
    "# z1 = data.pos_z\n",
    "\n",
    "x1 = data.pos_x #* (9.81*data.magnetic_field_x)\n",
    "y1 = data.pos_y #* (9.81*data.magnetic_field_y)\n",
    "z1 = data.pos_z #* (9.81*data.magnetic_field_z)\n",
    "\n",
    "plt.figure(figsize=(6, 5))\n",
    "fig = px.scatter_3d(data, x=x1, y=y1, z=z1)\n",
    "fig.show()"
   ]
  },
  {
   "cell_type": "code",
   "execution_count": 20,
   "metadata": {},
   "outputs": [],
   "source": [
    "def calculate_position_irregular(acceleration, timesteps):\n",
    "    position = np.zeros_like(acceleration)\n",
    "    cumulative_dt = np.cumsum(timesteps)\n",
    "    for i in range(1, len(acceleration)):\n",
    "        dt1 = timesteps[i - 1]\n",
    "        dt2 = timesteps[i]\n",
    "        average_acceleration = (acceleration[i - 1] + acceleration[i]) / 2\n",
    "        position[i] = position[i - 1] + dt1 * average_acceleration + dt2 * average_acceleration\n",
    "    return position\n",
    "\n",
    "# Example usage:\n",
    "timesteps = np.array([0.1, 0.2, 0.3, 0.4])  # Irregular timesteps\n",
    "acceleration = np.array([1, 2, 3, 4])  # Sample acceleration data\n",
    "\n",
    "data['position_x'] = calculate_position_irregular(data.raw_acceleration_x, data.t)\n",
    "data['position_y'] = calculate_position_irregular(data.raw_acceleration_y, data.t)\n",
    "data['position_z'] = calculate_position_irregular(data.raw_acceleration_z, data.t)"
   ]
  },
  {
   "cell_type": "code",
   "execution_count": 21,
   "metadata": {},
   "outputs": [
    {
     "data": {
      "application/vnd.plotly.v1+json": {
       "config": {
        "plotlyServerURL": "https://plot.ly"
       },
       "data": [
        {
         "hovertemplate": "x=%{x}<br>y=%{y}<br>z=%{z}<extra></extra>",
         "legendgroup": "",
         "marker": {
          "color": "#636efa",
          "symbol": "circle"
         },
         "mode": "markers",
         "name": "",
         "scene": "scene",
         "showlegend": false,
         "type": "scatter3d",
         "x": [
          0,
          -3.3325808,
          -6.99398575,
          -10.723586995000002,
          -14.732903915000003,
          -18.335656115000003,
          -20.091537935000005,
          -22.976876735000005,
          -28.074993310000004,
          -31.685629675,
          -34.174520625,
          -46.561777725,
          -72.202390375,
          -107.261510375,
          -146.919250175,
          -181.934363265,
          -211.71322033500002,
          -232.64876309500002,
          -251.65684729500003,
          -272.03209537500004,
          -283.35946947,
          -283.81211631,
          -277.05240044500005,
          -262.68114662500005,
          -241.49688172500004,
          -214.36639960500003,
          -172.99115458500003,
          -124.61897833500004,
          -75.07058179500004,
          -23.169766115000034,
          22.662667384999967,
          60.61117465999996,
          85.53249226999996,
          82.03498996999996,
          61.06928916999996,
          41.50048428999996,
          16.32976111499996,
          -14.30173972500004,
          -42.56425282500004,
          -67.34786806500004,
          -91.63579219500004,
          -119.89779365500003,
          -174.77201558500002,
          -231.69087918500003,
          -264.91055928500003,
          -288.27988241,
          -302.16464264,
          -314.71831064,
          -326.05712354,
          -337.62616211,
          -349.61696187499996,
          -368.14572193999993,
          -392.3622377199999,
          -417.9446952849999,
          -453.5271567799999,
          -496.3361186899999,
          -523.4192687399999,
          -533.3019811799999,
          -538.7823356399998,
          -538.6514005299998,
          -525.7758733899998,
          -489.4559094399998,
          -434.1601900599998,
          -379.5385359799998
         ],
         "y": [
          0,
          0.4165726,
          1.35807673,
          2.566257415,
          4.2016366849999995,
          5.155306384999999,
          3.931509964999999,
          3.7177811649999994,
          6.079014105,
          7.10292591,
          6.88650061,
          1.4534931099999993,
          -22.277712215,
          -52.242303840000005,
          -64.50815124,
          -59.592780475,
          -45.507436535,
          -23.1799029,
          4.773162100000004,
          34.915058020000004,
          62.75447495,
          87.65005115000001,
          113.78004525,
          143.32095588,
          179.27695144,
          216.92624336500003,
          244.62515216500003,
          258.64439366500005,
          251.95652324000005,
          234.79247396000005,
          211.11433696000003,
          172.28330626000002,
          126.45642838000003,
          89.28805648000004,
          67.07156103000004,
          54.98318615000004,
          57.44619247500004,
          71.19418891500004,
          92.61802111500005,
          126.99921284500005,
          175.94121071500004,
          226.70246279500003,
          290.383658615,
          356.21156173500003,
          405.327013995,
          449.01206869000004,
          484.72467270500005,
          506.316981665,
          507.576849765,
          497.588280945,
          475.636869735,
          440.48953105500004,
          399.02114387500006,
          351.5108655400001,
          293.98695853000015,
          225.67341147000013,
          161.59390094500014,
          112.96055288500014,
          79.42600297500013,
          60.04760669500013,
          56.04042733000013,
          76.47452683000013,
          119.46761008000013,
          168.38153360000015
         ],
         "z": [
          0,
          -102.841360625,
          -206.24989757,
          -309.9433181,
          -414.29106636,
          -519.83051316,
          -625.60909068,
          -731.08425348,
          -836.9104207,
          -943.18168804,
          -1049.87936094,
          -1155.8773372649998,
          -1261.6039485749998,
          -1368.1508054499998,
          -1474.5831584499997,
          -1582.5556286249996,
          -1692.6874910849997,
          -1804.2694796249998,
          -1915.7463028449997,
          -2026.9962799649998,
          -2139.0865639199997,
          -2250.8337525449997,
          -2363.02231417,
          -2476.50959632,
          -2590.1603147700002,
          -2704.832585595,
          -2820.937178315,
          -2938.189016315,
          -3059.0359271250004,
          -3180.4102756050006,
          -3298.2734773550005,
          -3413.5898715550006,
          -3531.227939515001,
          -3646.7047951150007,
          -3759.1571903150007,
          -3875.5526811150007,
          -3993.897131365001,
          -4112.021363935001,
          -4229.791921735002,
          -4348.668233070002,
          -4469.375554500002,
          -4591.006380740002,
          -4709.623385720001,
          -4827.853764350002,
          -4949.866234250002,
          -5074.689578835002,
          -5200.590580380002,
          -5323.051611720002,
          -5444.691876775003,
          -5567.842079695003,
          -5689.399605355004,
          -5810.314091140003,
          -5934.591461040003,
          -6060.131440770003,
          -6184.7665726250025,
          -6309.642187005003,
          -6429.637387705002,
          -6551.545847080001,
          -6681.573780875001,
          -6812.705293540001,
          -6947.832637045001,
          -7081.7089469950015,
          -7210.820483155001,
          -7341.832810195002
         ]
        }
       ],
       "layout": {
        "legend": {
         "tracegroupgap": 0
        },
        "margin": {
         "t": 60
        },
        "scene": {
         "domain": {
          "x": [
           0,
           1
          ],
          "y": [
           0,
           1
          ]
         },
         "xaxis": {
          "title": {
           "text": "x"
          }
         },
         "yaxis": {
          "title": {
           "text": "y"
          }
         },
         "zaxis": {
          "title": {
           "text": "z"
          }
         }
        },
        "template": {
         "data": {
          "bar": [
           {
            "error_x": {
             "color": "#2a3f5f"
            },
            "error_y": {
             "color": "#2a3f5f"
            },
            "marker": {
             "line": {
              "color": "#E5ECF6",
              "width": 0.5
             },
             "pattern": {
              "fillmode": "overlay",
              "size": 10,
              "solidity": 0.2
             }
            },
            "type": "bar"
           }
          ],
          "barpolar": [
           {
            "marker": {
             "line": {
              "color": "#E5ECF6",
              "width": 0.5
             },
             "pattern": {
              "fillmode": "overlay",
              "size": 10,
              "solidity": 0.2
             }
            },
            "type": "barpolar"
           }
          ],
          "carpet": [
           {
            "aaxis": {
             "endlinecolor": "#2a3f5f",
             "gridcolor": "white",
             "linecolor": "white",
             "minorgridcolor": "white",
             "startlinecolor": "#2a3f5f"
            },
            "baxis": {
             "endlinecolor": "#2a3f5f",
             "gridcolor": "white",
             "linecolor": "white",
             "minorgridcolor": "white",
             "startlinecolor": "#2a3f5f"
            },
            "type": "carpet"
           }
          ],
          "choropleth": [
           {
            "colorbar": {
             "outlinewidth": 0,
             "ticks": ""
            },
            "type": "choropleth"
           }
          ],
          "contour": [
           {
            "colorbar": {
             "outlinewidth": 0,
             "ticks": ""
            },
            "colorscale": [
             [
              0,
              "#0d0887"
             ],
             [
              0.1111111111111111,
              "#46039f"
             ],
             [
              0.2222222222222222,
              "#7201a8"
             ],
             [
              0.3333333333333333,
              "#9c179e"
             ],
             [
              0.4444444444444444,
              "#bd3786"
             ],
             [
              0.5555555555555556,
              "#d8576b"
             ],
             [
              0.6666666666666666,
              "#ed7953"
             ],
             [
              0.7777777777777778,
              "#fb9f3a"
             ],
             [
              0.8888888888888888,
              "#fdca26"
             ],
             [
              1,
              "#f0f921"
             ]
            ],
            "type": "contour"
           }
          ],
          "contourcarpet": [
           {
            "colorbar": {
             "outlinewidth": 0,
             "ticks": ""
            },
            "type": "contourcarpet"
           }
          ],
          "heatmap": [
           {
            "colorbar": {
             "outlinewidth": 0,
             "ticks": ""
            },
            "colorscale": [
             [
              0,
              "#0d0887"
             ],
             [
              0.1111111111111111,
              "#46039f"
             ],
             [
              0.2222222222222222,
              "#7201a8"
             ],
             [
              0.3333333333333333,
              "#9c179e"
             ],
             [
              0.4444444444444444,
              "#bd3786"
             ],
             [
              0.5555555555555556,
              "#d8576b"
             ],
             [
              0.6666666666666666,
              "#ed7953"
             ],
             [
              0.7777777777777778,
              "#fb9f3a"
             ],
             [
              0.8888888888888888,
              "#fdca26"
             ],
             [
              1,
              "#f0f921"
             ]
            ],
            "type": "heatmap"
           }
          ],
          "heatmapgl": [
           {
            "colorbar": {
             "outlinewidth": 0,
             "ticks": ""
            },
            "colorscale": [
             [
              0,
              "#0d0887"
             ],
             [
              0.1111111111111111,
              "#46039f"
             ],
             [
              0.2222222222222222,
              "#7201a8"
             ],
             [
              0.3333333333333333,
              "#9c179e"
             ],
             [
              0.4444444444444444,
              "#bd3786"
             ],
             [
              0.5555555555555556,
              "#d8576b"
             ],
             [
              0.6666666666666666,
              "#ed7953"
             ],
             [
              0.7777777777777778,
              "#fb9f3a"
             ],
             [
              0.8888888888888888,
              "#fdca26"
             ],
             [
              1,
              "#f0f921"
             ]
            ],
            "type": "heatmapgl"
           }
          ],
          "histogram": [
           {
            "marker": {
             "pattern": {
              "fillmode": "overlay",
              "size": 10,
              "solidity": 0.2
             }
            },
            "type": "histogram"
           }
          ],
          "histogram2d": [
           {
            "colorbar": {
             "outlinewidth": 0,
             "ticks": ""
            },
            "colorscale": [
             [
              0,
              "#0d0887"
             ],
             [
              0.1111111111111111,
              "#46039f"
             ],
             [
              0.2222222222222222,
              "#7201a8"
             ],
             [
              0.3333333333333333,
              "#9c179e"
             ],
             [
              0.4444444444444444,
              "#bd3786"
             ],
             [
              0.5555555555555556,
              "#d8576b"
             ],
             [
              0.6666666666666666,
              "#ed7953"
             ],
             [
              0.7777777777777778,
              "#fb9f3a"
             ],
             [
              0.8888888888888888,
              "#fdca26"
             ],
             [
              1,
              "#f0f921"
             ]
            ],
            "type": "histogram2d"
           }
          ],
          "histogram2dcontour": [
           {
            "colorbar": {
             "outlinewidth": 0,
             "ticks": ""
            },
            "colorscale": [
             [
              0,
              "#0d0887"
             ],
             [
              0.1111111111111111,
              "#46039f"
             ],
             [
              0.2222222222222222,
              "#7201a8"
             ],
             [
              0.3333333333333333,
              "#9c179e"
             ],
             [
              0.4444444444444444,
              "#bd3786"
             ],
             [
              0.5555555555555556,
              "#d8576b"
             ],
             [
              0.6666666666666666,
              "#ed7953"
             ],
             [
              0.7777777777777778,
              "#fb9f3a"
             ],
             [
              0.8888888888888888,
              "#fdca26"
             ],
             [
              1,
              "#f0f921"
             ]
            ],
            "type": "histogram2dcontour"
           }
          ],
          "mesh3d": [
           {
            "colorbar": {
             "outlinewidth": 0,
             "ticks": ""
            },
            "type": "mesh3d"
           }
          ],
          "parcoords": [
           {
            "line": {
             "colorbar": {
              "outlinewidth": 0,
              "ticks": ""
             }
            },
            "type": "parcoords"
           }
          ],
          "pie": [
           {
            "automargin": true,
            "type": "pie"
           }
          ],
          "scatter": [
           {
            "fillpattern": {
             "fillmode": "overlay",
             "size": 10,
             "solidity": 0.2
            },
            "type": "scatter"
           }
          ],
          "scatter3d": [
           {
            "line": {
             "colorbar": {
              "outlinewidth": 0,
              "ticks": ""
             }
            },
            "marker": {
             "colorbar": {
              "outlinewidth": 0,
              "ticks": ""
             }
            },
            "type": "scatter3d"
           }
          ],
          "scattercarpet": [
           {
            "marker": {
             "colorbar": {
              "outlinewidth": 0,
              "ticks": ""
             }
            },
            "type": "scattercarpet"
           }
          ],
          "scattergeo": [
           {
            "marker": {
             "colorbar": {
              "outlinewidth": 0,
              "ticks": ""
             }
            },
            "type": "scattergeo"
           }
          ],
          "scattergl": [
           {
            "marker": {
             "colorbar": {
              "outlinewidth": 0,
              "ticks": ""
             }
            },
            "type": "scattergl"
           }
          ],
          "scattermapbox": [
           {
            "marker": {
             "colorbar": {
              "outlinewidth": 0,
              "ticks": ""
             }
            },
            "type": "scattermapbox"
           }
          ],
          "scatterpolar": [
           {
            "marker": {
             "colorbar": {
              "outlinewidth": 0,
              "ticks": ""
             }
            },
            "type": "scatterpolar"
           }
          ],
          "scatterpolargl": [
           {
            "marker": {
             "colorbar": {
              "outlinewidth": 0,
              "ticks": ""
             }
            },
            "type": "scatterpolargl"
           }
          ],
          "scatterternary": [
           {
            "marker": {
             "colorbar": {
              "outlinewidth": 0,
              "ticks": ""
             }
            },
            "type": "scatterternary"
           }
          ],
          "surface": [
           {
            "colorbar": {
             "outlinewidth": 0,
             "ticks": ""
            },
            "colorscale": [
             [
              0,
              "#0d0887"
             ],
             [
              0.1111111111111111,
              "#46039f"
             ],
             [
              0.2222222222222222,
              "#7201a8"
             ],
             [
              0.3333333333333333,
              "#9c179e"
             ],
             [
              0.4444444444444444,
              "#bd3786"
             ],
             [
              0.5555555555555556,
              "#d8576b"
             ],
             [
              0.6666666666666666,
              "#ed7953"
             ],
             [
              0.7777777777777778,
              "#fb9f3a"
             ],
             [
              0.8888888888888888,
              "#fdca26"
             ],
             [
              1,
              "#f0f921"
             ]
            ],
            "type": "surface"
           }
          ],
          "table": [
           {
            "cells": {
             "fill": {
              "color": "#EBF0F8"
             },
             "line": {
              "color": "white"
             }
            },
            "header": {
             "fill": {
              "color": "#C8D4E3"
             },
             "line": {
              "color": "white"
             }
            },
            "type": "table"
           }
          ]
         },
         "layout": {
          "annotationdefaults": {
           "arrowcolor": "#2a3f5f",
           "arrowhead": 0,
           "arrowwidth": 1
          },
          "autotypenumbers": "strict",
          "coloraxis": {
           "colorbar": {
            "outlinewidth": 0,
            "ticks": ""
           }
          },
          "colorscale": {
           "diverging": [
            [
             0,
             "#8e0152"
            ],
            [
             0.1,
             "#c51b7d"
            ],
            [
             0.2,
             "#de77ae"
            ],
            [
             0.3,
             "#f1b6da"
            ],
            [
             0.4,
             "#fde0ef"
            ],
            [
             0.5,
             "#f7f7f7"
            ],
            [
             0.6,
             "#e6f5d0"
            ],
            [
             0.7,
             "#b8e186"
            ],
            [
             0.8,
             "#7fbc41"
            ],
            [
             0.9,
             "#4d9221"
            ],
            [
             1,
             "#276419"
            ]
           ],
           "sequential": [
            [
             0,
             "#0d0887"
            ],
            [
             0.1111111111111111,
             "#46039f"
            ],
            [
             0.2222222222222222,
             "#7201a8"
            ],
            [
             0.3333333333333333,
             "#9c179e"
            ],
            [
             0.4444444444444444,
             "#bd3786"
            ],
            [
             0.5555555555555556,
             "#d8576b"
            ],
            [
             0.6666666666666666,
             "#ed7953"
            ],
            [
             0.7777777777777778,
             "#fb9f3a"
            ],
            [
             0.8888888888888888,
             "#fdca26"
            ],
            [
             1,
             "#f0f921"
            ]
           ],
           "sequentialminus": [
            [
             0,
             "#0d0887"
            ],
            [
             0.1111111111111111,
             "#46039f"
            ],
            [
             0.2222222222222222,
             "#7201a8"
            ],
            [
             0.3333333333333333,
             "#9c179e"
            ],
            [
             0.4444444444444444,
             "#bd3786"
            ],
            [
             0.5555555555555556,
             "#d8576b"
            ],
            [
             0.6666666666666666,
             "#ed7953"
            ],
            [
             0.7777777777777778,
             "#fb9f3a"
            ],
            [
             0.8888888888888888,
             "#fdca26"
            ],
            [
             1,
             "#f0f921"
            ]
           ]
          },
          "colorway": [
           "#636efa",
           "#EF553B",
           "#00cc96",
           "#ab63fa",
           "#FFA15A",
           "#19d3f3",
           "#FF6692",
           "#B6E880",
           "#FF97FF",
           "#FECB52"
          ],
          "font": {
           "color": "#2a3f5f"
          },
          "geo": {
           "bgcolor": "white",
           "lakecolor": "white",
           "landcolor": "#E5ECF6",
           "showlakes": true,
           "showland": true,
           "subunitcolor": "white"
          },
          "hoverlabel": {
           "align": "left"
          },
          "hovermode": "closest",
          "mapbox": {
           "style": "light"
          },
          "paper_bgcolor": "white",
          "plot_bgcolor": "#E5ECF6",
          "polar": {
           "angularaxis": {
            "gridcolor": "white",
            "linecolor": "white",
            "ticks": ""
           },
           "bgcolor": "#E5ECF6",
           "radialaxis": {
            "gridcolor": "white",
            "linecolor": "white",
            "ticks": ""
           }
          },
          "scene": {
           "xaxis": {
            "backgroundcolor": "#E5ECF6",
            "gridcolor": "white",
            "gridwidth": 2,
            "linecolor": "white",
            "showbackground": true,
            "ticks": "",
            "zerolinecolor": "white"
           },
           "yaxis": {
            "backgroundcolor": "#E5ECF6",
            "gridcolor": "white",
            "gridwidth": 2,
            "linecolor": "white",
            "showbackground": true,
            "ticks": "",
            "zerolinecolor": "white"
           },
           "zaxis": {
            "backgroundcolor": "#E5ECF6",
            "gridcolor": "white",
            "gridwidth": 2,
            "linecolor": "white",
            "showbackground": true,
            "ticks": "",
            "zerolinecolor": "white"
           }
          },
          "shapedefaults": {
           "line": {
            "color": "#2a3f5f"
           }
          },
          "ternary": {
           "aaxis": {
            "gridcolor": "white",
            "linecolor": "white",
            "ticks": ""
           },
           "baxis": {
            "gridcolor": "white",
            "linecolor": "white",
            "ticks": ""
           },
           "bgcolor": "#E5ECF6",
           "caxis": {
            "gridcolor": "white",
            "linecolor": "white",
            "ticks": ""
           }
          },
          "title": {
           "x": 0.05
          },
          "xaxis": {
           "automargin": true,
           "gridcolor": "white",
           "linecolor": "white",
           "ticks": "",
           "title": {
            "standoff": 15
           },
           "zerolinecolor": "white",
           "zerolinewidth": 2
          },
          "yaxis": {
           "automargin": true,
           "gridcolor": "white",
           "linecolor": "white",
           "ticks": "",
           "title": {
            "standoff": 15
           },
           "zerolinecolor": "white",
           "zerolinewidth": 2
          }
         }
        }
       }
      }
     },
     "metadata": {},
     "output_type": "display_data"
    },
    {
     "data": {
      "text/plain": [
       "<Figure size 600x500 with 0 Axes>"
      ]
     },
     "metadata": {},
     "output_type": "display_data"
    }
   ],
   "source": [
    "plt.figure(figsize=(6, 5))\n",
    "fig = px.scatter_3d(data, x=position_x, y=position_y, z=position_z)\n",
    "fig.show()"
   ]
  },
  {
   "cell_type": "code",
   "execution_count": null,
   "metadata": {},
   "outputs": [],
   "source": []
  }
 ],
 "metadata": {
  "kernelspec": {
   "display_name": "base",
   "language": "python",
   "name": "python3"
  },
  "language_info": {
   "codemirror_mode": {
    "name": "ipython",
    "version": 3
   },
   "file_extension": ".py",
   "mimetype": "text/x-python",
   "name": "python",
   "nbconvert_exporter": "python",
   "pygments_lexer": "ipython3",
   "version": "3.9.18"
  }
 },
 "nbformat": 4,
 "nbformat_minor": 2
}
