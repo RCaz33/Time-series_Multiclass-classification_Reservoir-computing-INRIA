{
 "cells": [
  {
   "cell_type": "code",
   "execution_count": 1,
   "metadata": {},
   "outputs": [
    {
     "name": "stdout",
     "output_type": "stream",
     "text": [
      "Intel MKL WARNING: Support of Intel(R) Streaming SIMD Extensions 4.2 (Intel(R) SSE4.2) enabled only processors has been deprecated. Intel oneAPI Math Kernel Library 2025.0 will require Intel(R) Advanced Vector Extensions (Intel(R) AVX) instructions.\n",
      "Intel MKL WARNING: Support of Intel(R) Streaming SIMD Extensions 4.2 (Intel(R) SSE4.2) enabled only processors has been deprecated. Intel oneAPI Math Kernel Library 2025.0 will require Intel(R) Advanced Vector Extensions (Intel(R) AVX) instructions.\n"
     ]
    }
   ],
   "source": [
    "import os\n",
    "import pandas as pd\n",
    "import numpy as np \n",
    "import seaborn as sns\n",
    "from sklearn.model_selection import train_test_split\n",
    "from sklearn.tree import DecisionTreeClassifier\n",
    "from sklearn.metrics import accuracy_score\n",
    "\n",
    "import matplotlib.pyplot as plt"
   ]
  },
  {
   "cell_type": "markdown",
   "metadata": {},
   "source": [
    "# laod data"
   ]
  },
  {
   "cell_type": "code",
   "execution_count": 2,
   "metadata": {},
   "outputs": [],
   "source": [
    "import os\n",
    "import pandas as pd\n",
    "import numpy as np \n",
    "directory = 'data/group3/config_1'#/config_3'\n",
    "labels=[]\n",
    "all_data=[]\n",
    "for filename in os.listdir(directory):\n",
    "    f = os.path.join(directory, filename)\n",
    "    data = pd.read_csv(f)\n",
    "    all_data.append(np.array(data))\n",
    "    # formatage des labels pour chaque pas de temps\n",
    "    label = int(filename[0])\n",
    "    labels.append(np.array([label]*len(data)).reshape(-1,1))\n",
    "columns_name = pd.read_csv(os.path.join(directory, os.listdir(directory)[1])).columns.tolist()"
   ]
  },
  {
   "cell_type": "markdown",
   "metadata": {},
   "source": [
    "# initialize the reservoir coomputing\n",
    "* https://github.com/reservoirpy/reservoirpy/blob/master/tutorials/5-Classification-with-RC.ipynb"
   ]
  },
  {
   "cell_type": "code",
   "execution_count": 3,
   "metadata": {},
   "outputs": [],
   "source": [
    "import reservoirpy as rpy\n",
    "\n",
    "rpy.verbosity(0.1) \n",
    "rpy.set_seed(42) "
   ]
  },
  {
   "cell_type": "code",
   "execution_count": 4,
   "metadata": {},
   "outputs": [],
   "source": [
    "from reservoirpy.nodes import Reservoir, Ridge\n",
    "\n",
    "reservoir = Reservoir(100, lr=0.5, sr=0.9)\n",
    "ridge = Ridge(ridge=1e-7)\n",
    "\n",
    "esn_model = reservoir >> ridge"
   ]
  },
  {
   "cell_type": "markdown",
   "metadata": {},
   "source": [
    "## process label \n",
    "* we need one hot encoded matrice for classification\n",
    "* we need a class for each time_step"
   ]
  },
  {
   "cell_type": "code",
   "execution_count": 5,
   "metadata": {},
   "outputs": [
    {
     "ename": "IndexError",
     "evalue": "index 1 is out of bounds for axis 0 with size 1",
     "output_type": "error",
     "traceback": [
      "\u001b[0;31m---------------------------------------------------------------------------\u001b[0m",
      "\u001b[0;31mIndexError\u001b[0m                                Traceback (most recent call last)",
      "Cell \u001b[0;32mIn[5], line 13\u001b[0m\n\u001b[1;32m     11\u001b[0m new_label\u001b[38;5;241m=\u001b[39m[]\n\u001b[1;32m     12\u001b[0m \u001b[38;5;28;01mfor\u001b[39;00m i \u001b[38;5;129;01min\u001b[39;00m \u001b[38;5;28mrange\u001b[39m(\u001b[38;5;28mlen\u001b[39m(all_data)):\n\u001b[0;32m---> 13\u001b[0m     new_label\u001b[38;5;241m.\u001b[39mappend(np\u001b[38;5;241m.\u001b[39mtile(\u001b[43menc_label\u001b[49m\u001b[43m[\u001b[49m\u001b[43mi\u001b[49m\u001b[43m]\u001b[49m, (\u001b[38;5;28mlen\u001b[39m(all_data[i]), \u001b[38;5;241m1\u001b[39m)))\n",
      "\u001b[0;31mIndexError\u001b[0m: index 1 is out of bounds for axis 0 with size 1"
     ]
    }
   ],
   "source": [
    "####################################\n",
    "### preprocessing y pour RC       ##\n",
    "####################################\n",
    "\n",
    "\n",
    "from sklearn.preprocessing import OneHotEncoder\n",
    "\n",
    "enc = OneHotEncoder()\n",
    "enc_label = enc.fit_transform(np.array(label).reshape(-1,1)).toarray()\n",
    "\n",
    "new_label=[]\n",
    "for i in range(len(all_data)):\n",
    "    new_label.append(np.tile(enc_label[i], (len(all_data[i]), 1)))"
   ]
  },
  {
   "cell_type": "code",
   "execution_count": null,
   "metadata": {},
   "outputs": [
    {
     "data": {
      "text/plain": [
       "176"
      ]
     },
     "execution_count": 16,
     "metadata": {},
     "output_type": "execute_result"
    }
   ],
   "source": [
    "new_label[]"
   ]
  },
  {
   "cell_type": "code",
   "execution_count": null,
   "metadata": {},
   "outputs": [
    {
     "ename": "NameError",
     "evalue": "name 'new_label' is not defined",
     "output_type": "error",
     "traceback": [
      "\u001b[0;31m---------------------------------------------------------------------------\u001b[0m",
      "\u001b[0;31mNameError\u001b[0m                                 Traceback (most recent call last)",
      "Cell \u001b[0;32mIn[12], line 6\u001b[0m\n\u001b[1;32m      3\u001b[0m idx_train \u001b[38;5;241m=\u001b[39m np\u001b[38;5;241m.\u001b[39marray( \u001b[38;5;28mlist\u001b[39m(\u001b[38;5;28mset\u001b[39m(np\u001b[38;5;241m.\u001b[39marange(\u001b[38;5;28mlen\u001b[39m(all_data))) \u001b[38;5;241m-\u001b[39m \u001b[38;5;28mset\u001b[39m(idx_test)))\n\u001b[1;32m      5\u001b[0m X_train, X_test \u001b[38;5;241m=\u001b[39m [all_data[i] \u001b[38;5;28;01mfor\u001b[39;00m i \u001b[38;5;129;01min\u001b[39;00m idx_train],  [all_data[i] \u001b[38;5;28;01mfor\u001b[39;00m i \u001b[38;5;129;01min\u001b[39;00m idx_test] \n\u001b[0;32m----> 6\u001b[0m y_train, y_test \u001b[38;5;241m=\u001b[39m [new_label[i] \u001b[38;5;28;01mfor\u001b[39;00m i \u001b[38;5;129;01min\u001b[39;00m idx_train],  [new_label[i] \u001b[38;5;28;01mfor\u001b[39;00m i \u001b[38;5;129;01min\u001b[39;00m idx_test]\n\u001b[1;32m      8\u001b[0m esn_model \u001b[38;5;241m=\u001b[39m esn_model\u001b[38;5;241m.\u001b[39mfit(X_train, y_train, warmup\u001b[38;5;241m=\u001b[39m\u001b[38;5;241m10\u001b[39m)\n\u001b[1;32m     10\u001b[0m \u001b[38;5;28mprint\u001b[39m(\u001b[38;5;124m\"\u001b[39m\u001b[38;5;124mreservoir initialize, \u001b[39m\u001b[38;5;124m\"\u001b[39m)\n",
      "Cell \u001b[0;32mIn[12], line 6\u001b[0m, in \u001b[0;36m<listcomp>\u001b[0;34m(.0)\u001b[0m\n\u001b[1;32m      3\u001b[0m idx_train \u001b[38;5;241m=\u001b[39m np\u001b[38;5;241m.\u001b[39marray( \u001b[38;5;28mlist\u001b[39m(\u001b[38;5;28mset\u001b[39m(np\u001b[38;5;241m.\u001b[39marange(\u001b[38;5;28mlen\u001b[39m(all_data))) \u001b[38;5;241m-\u001b[39m \u001b[38;5;28mset\u001b[39m(idx_test)))\n\u001b[1;32m      5\u001b[0m X_train, X_test \u001b[38;5;241m=\u001b[39m [all_data[i] \u001b[38;5;28;01mfor\u001b[39;00m i \u001b[38;5;129;01min\u001b[39;00m idx_train],  [all_data[i] \u001b[38;5;28;01mfor\u001b[39;00m i \u001b[38;5;129;01min\u001b[39;00m idx_test] \n\u001b[0;32m----> 6\u001b[0m y_train, y_test \u001b[38;5;241m=\u001b[39m [new_label[i] \u001b[38;5;28;01mfor\u001b[39;00m i \u001b[38;5;129;01min\u001b[39;00m idx_train],  [new_label[i] \u001b[38;5;28;01mfor\u001b[39;00m i \u001b[38;5;129;01min\u001b[39;00m idx_test]\n\u001b[1;32m      8\u001b[0m esn_model \u001b[38;5;241m=\u001b[39m esn_model\u001b[38;5;241m.\u001b[39mfit(X_train, y_train, warmup\u001b[38;5;241m=\u001b[39m\u001b[38;5;241m10\u001b[39m)\n\u001b[1;32m     10\u001b[0m \u001b[38;5;28mprint\u001b[39m(\u001b[38;5;124m\"\u001b[39m\u001b[38;5;124mreservoir initialize, \u001b[39m\u001b[38;5;124m\"\u001b[39m)\n",
      "\u001b[0;31mNameError\u001b[0m: name 'new_label' is not defined"
     ]
    }
   ],
   "source": [
    "n_train = len(all_data)//4\n",
    "idx_test = np.random.choice(np.arange(len(all_data)), n_train)\n",
    "idx_train = np.array( list(set(np.arange(len(all_data))) - set(idx_test)))\n",
    "\n",
    "X_train, X_test = [all_data[i] for i in idx_train],  [all_data[i] for i in idx_test] \n",
    "y_train, y_test = [new_label[i] for i in idx_train],  [new_label[i] for i in idx_test]\n",
    "\n",
    "esn_model = esn_model.fit(X_train, y_train, warmup=10)\n",
    "\n",
    "print(\"reservoir initialize, \")\n",
    "print(reservoir.is_initialized, ridge.is_initialized, ridge.fitted)"
   ]
  },
  {
   "cell_type": "markdown",
   "metadata": {},
   "source": [
    "# predictions"
   ]
  },
  {
   "cell_type": "code",
   "execution_count": null,
   "metadata": {},
   "outputs": [],
   "source": [
    "Y_pred = esn_model.run(X_test)"
   ]
  },
  {
   "cell_type": "markdown",
   "metadata": {},
   "source": [
    "### on compatibilize"
   ]
  },
  {
   "cell_type": "code",
   "execution_count": null,
   "metadata": {},
   "outputs": [],
   "source": [
    "res_ = []\n",
    "preds=[]\n",
    "for i in range(len(Y_pred)):\n",
    "    for timestep in range(len(Y_pred[i])):\n",
    "        u = np.zeros(10)\n",
    "        u[np.argmax(Y_pred[i][timestep])] = 1\n",
    "        res_.append(u)\n",
    "    preds.append(np.argmax(pd.DataFrame(np.array(res_).T).sum(axis=1)))"
   ]
  },
  {
   "cell_type": "code",
   "execution_count": null,
   "metadata": {},
   "outputs": [],
   "source": [
    "res_ = []\n",
    "labels=[]\n",
    "for i in range(len(y_test)):\n",
    "    for timestep in range(len(y_test[i])):\n",
    "        u = np.zeros(10)\n",
    "        u[np.argmax(y_test[i][timestep])] = 1\n",
    "        res_.append(u)\n",
    "    labels.append(np.argmax(pd.DataFrame(np.array(res_).T).sum(axis=1)))\n"
   ]
  },
  {
   "cell_type": "code",
   "execution_count": null,
   "metadata": {},
   "outputs": [
    {
     "name": "stdout",
     "output_type": "stream",
     "text": [
      "              precision    recall  f1-score   support\n",
      "\n",
      "           0       0.00      0.00      0.00         0\n",
      "           1       0.67      0.50      0.57         4\n",
      "           3       0.00      0.00      0.00         2\n",
      "           7       0.00      0.00      0.00         0\n",
      "           8       0.75      0.06      0.11        49\n",
      "\n",
      "    accuracy                           0.09        55\n",
      "   macro avg       0.28      0.11      0.14        55\n",
      "weighted avg       0.72      0.09      0.14        55\n",
      "\n"
     ]
    },
    {
     "name": "stderr",
     "output_type": "stream",
     "text": [
      "/Applications/anaconda3/lib/python3.9/site-packages/sklearn/metrics/_classification.py:1344: UndefinedMetricWarning: Precision and F-score are ill-defined and being set to 0.0 in labels with no predicted samples. Use `zero_division` parameter to control this behavior.\n",
      "  _warn_prf(average, modifier, msg_start, len(result))\n",
      "/Applications/anaconda3/lib/python3.9/site-packages/sklearn/metrics/_classification.py:1344: UndefinedMetricWarning: Recall and F-score are ill-defined and being set to 0.0 in labels with no true samples. Use `zero_division` parameter to control this behavior.\n",
      "  _warn_prf(average, modifier, msg_start, len(result))\n",
      "/Applications/anaconda3/lib/python3.9/site-packages/sklearn/metrics/_classification.py:1344: UndefinedMetricWarning: Precision and F-score are ill-defined and being set to 0.0 in labels with no predicted samples. Use `zero_division` parameter to control this behavior.\n",
      "  _warn_prf(average, modifier, msg_start, len(result))\n",
      "/Applications/anaconda3/lib/python3.9/site-packages/sklearn/metrics/_classification.py:1344: UndefinedMetricWarning: Recall and F-score are ill-defined and being set to 0.0 in labels with no true samples. Use `zero_division` parameter to control this behavior.\n",
      "  _warn_prf(average, modifier, msg_start, len(result))\n",
      "/Applications/anaconda3/lib/python3.9/site-packages/sklearn/metrics/_classification.py:1344: UndefinedMetricWarning: Precision and F-score are ill-defined and being set to 0.0 in labels with no predicted samples. Use `zero_division` parameter to control this behavior.\n",
      "  _warn_prf(average, modifier, msg_start, len(result))\n",
      "/Applications/anaconda3/lib/python3.9/site-packages/sklearn/metrics/_classification.py:1344: UndefinedMetricWarning: Recall and F-score are ill-defined and being set to 0.0 in labels with no true samples. Use `zero_division` parameter to control this behavior.\n",
      "  _warn_prf(average, modifier, msg_start, len(result))\n"
     ]
    },
    {
     "data": {
      "text/plain": [
       "<Axes: >"
      ]
     },
     "execution_count": 170,
     "metadata": {},
     "output_type": "execute_result"
    },
    {
     "data": {
      "image/png": "[encoded data removed]",
      "text/plain": [
       "<Figure size 640x480 with 2 Axes>"
      ]
     },
     "metadata": {},
     "output_type": "display_data"
    }
   ],
   "source": [
    "from sklearn.metrics import confusion_matrix, accuracy_score, f1_score\n",
    "from sklearn.metrics import classification_report\n",
    "\n",
    "print(accuracy_score(labels,preds))\n",
    "print(classification_report(labels,preds))\n",
    "sns.heatmap(confusion_matrix(labels,preds), fmt=\".2g\", annot=True)"
   ]
  }
 ],
 "metadata": {
  "kernelspec": {
   "display_name": "base",
   "language": "python",
   "name": "python3"
  },
  "language_info": {
   "codemirror_mode": {
    "name": "ipython",
    "version": 3
   },
   "file_extension": ".py",
   "mimetype": "text/x-python",
   "name": "python",
   "nbconvert_exporter": "python",
   "pygments_lexer": "ipython3",
   "version": "3.9.18"
  }
 },
 "nbformat": 4,
 "nbformat_minor": 2
}
